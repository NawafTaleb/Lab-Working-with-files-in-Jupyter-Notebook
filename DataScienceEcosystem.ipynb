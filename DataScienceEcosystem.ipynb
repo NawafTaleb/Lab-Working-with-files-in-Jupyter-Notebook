{
 "cells": [
  {
   "cell_type": "markdown",
   "id": "bf4ac949-70fa-422c-b5ba-c207ae516be7",
   "metadata": {},
   "source": [
    "# Data Science Tools and Ecosystem"
   ]
  },
  {
   "cell_type": "markdown",
   "id": "19c216a8-8028-4b0c-ad8a-45e7c115bc85",
   "metadata": {},
   "source": [
    "# In this notebook, Data Science Tools and Ecosystem are summarized."
   ]
  },
  {
   "cell_type": "markdown",
   "id": "c8edcd84-ee44-4551-ae01-cca3ac4ecfb3",
   "metadata": {
    "tags": []
   },
   "source": [
    "# **Objectives:**\n",
    "\n",
    "- List popular languages for Data Science\n",
    "- List commonly used libraries for Data Science\n",
    "- List Data Science tools\n",
    "- Demonstrate arithmetic expressions in Python"
   ]
  },
  {
   "cell_type": "markdown",
   "id": "9fc138de-2bce-4a46-9664-19160842ffed",
   "metadata": {},
   "source": [
    "# Some of the popular languages that Data Scientists use are:\n",
    "\n",
    "1. Python\n",
    "2. R\n",
    "3. SQL"
   ]
  },
  {
   "cell_type": "markdown",
   "id": "7ace20b5-2da2-4d4a-9e0f-2fa1845b4b5c",
   "metadata": {
    "tags": []
   },
   "source": [
    "# Some of the commonly used libraries used by Data Scientists include:\n",
    "\n",
    "1. NumPy\n",
    "2. Pandas\n",
    "3. Matplotlib\n",
    "4. Scikit-learn\n",
    "5. TensorFlow"
   ]
  },
  {
   "cell_type": "markdown",
   "id": "e42825a7-b85e-4a2b-8e5e-c032d5bf15b7",
   "metadata": {},
   "source": [
    "# Data Science Tools\n",
    "\n",
    "| Data Science Tools     |\n",
    "|------------------------|\n",
    "| Jupyter Notebooks       |\n",
    "| RStudio                |\n",
    "| TensorFlow             |\n",
    "| Apache Spark           |\n",
    "| Apache Hadoop          |"
   ]
  },
  {
   "cell_type": "markdown",
   "id": "4d49a5f7-c113-4b20-9ee6-ae608a5a5c3f",
   "metadata": {},
   "source": [
    "### Below are a few examples of evaluating arithmetic expressions in Python"
   ]
  },
  {
   "cell_type": "code",
   "execution_count": 2,
   "id": "b6887abc-e121-4986-bb02-b931a21dc965",
   "metadata": {
    "tags": []
   },
   "outputs": [
    {
     "data": {
      "text/plain": [
       "17"
      ]
     },
     "execution_count": 2,
     "metadata": {},
     "output_type": "execute_result"
    }
   ],
   "source": [
    "(3*4)+5"
   ]
  },
  {
   "cell_type": "code",
   "execution_count": 5,
   "id": "98c176bf-49c6-4d5d-9977-0a6370e9d3e2",
   "metadata": {
    "tags": []
   },
   "outputs": [
    {
     "name": "stdout",
     "output_type": "stream",
     "text": [
      "3.3333333333333335\n"
     ]
    }
   ],
   "source": [
    "minutes = 200\n",
    "hours = minutes / 60\n",
    "print(hours)\n",
    "# This will convert 200 minutes to hours by diving by 60"
   ]
  },
  {
   "cell_type": "markdown",
   "id": "75f438fd-0a56-4dbc-be36-a6bb83aed895",
   "metadata": {},
   "source": [
    "## Author Nawaf Taleb"
   ]
  },
  {
   "cell_type": "code",
   "execution_count": null,
   "id": "c4a6e39d-d179-40a0-a726-06e071b23cff",
   "metadata": {},
   "outputs": [],
   "source": []
  }
 ],
 "metadata": {
  "kernelspec": {
   "display_name": "Python",
   "language": "python",
   "name": "conda-env-python-py"
  },
  "language_info": {
   "codemirror_mode": {
    "name": "ipython",
    "version": 3
   },
   "file_extension": ".py",
   "mimetype": "text/x-python",
   "name": "python",
   "nbconvert_exporter": "python",
   "pygments_lexer": "ipython3",
   "version": "3.7.12"
  }
 },
 "nbformat": 4,
 "nbformat_minor": 5
}
